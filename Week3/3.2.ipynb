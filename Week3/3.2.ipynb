{
 "cells": [
  {
   "cell_type": "code",
   "execution_count": 14,
   "id": "5316e83f-a0a0-4777-9f76-4b52b046ad87",
   "metadata": {},
   "outputs": [
    {
     "name": "stdin",
     "output_type": "stream",
     "text": [
      "Enter the number of rows:  3\n",
      "Enter the number of columns:  2\n"
     ]
    },
    {
     "name": "stdout",
     "output_type": "stream",
     "text": [
      "\n",
      "Enter the elements of the first matrix:\n"
     ]
    },
    {
     "name": "stdin",
     "output_type": "stream",
     "text": [
      "Enter element for row 1, column 1:  3\n",
      "Enter element for row 1, column 2:  4\n",
      "Enter element for row 2, column 1:  2\n",
      "Enter element for row 2, column 2:  4\n",
      "Enter element for row 3, column 1:  5\n",
      "Enter element for row 3, column 2:  2\n"
     ]
    },
    {
     "name": "stdout",
     "output_type": "stream",
     "text": [
      "\n",
      "Enter the elements of the second matrix:\n"
     ]
    },
    {
     "name": "stdin",
     "output_type": "stream",
     "text": [
      "Enter element for row 1, column 1:  3\n",
      "Enter element for row 1, column 2:  4\n",
      "Enter element for row 2, column 1:  5\n",
      "Enter element for row 2, column 2:  6\n",
      "Enter element for row 3, column 1:  7\n",
      "Enter element for row 3, column 2:  8\n"
     ]
    },
    {
     "name": "stdout",
     "output_type": "stream",
     "text": [
      "\n",
      "First Matrix:\n",
      "[[3 4]\n",
      " [2 4]\n",
      " [5 2]]\n",
      "\n",
      "Second Matrix:\n",
      "[[3 4]\n",
      " [5 6]\n",
      " [7 8]]\n"
     ]
    }
   ],
   "source": [
    "#a)Writng and reading matrix\n",
    "import numpy as np\n",
    "\n",
    "\n",
    "rows = int(input(\"Enter the number of rows: \"))\n",
    "cols = int(input(\"Enter the number of columns: \"))\n",
    "\n",
    "\n",
    "matrix1 = []\n",
    "matrix2 = []\n",
    "\n",
    "\n",
    "print(\"\\nEnter the elements of the first matrix:\")\n",
    "for i in range(rows):\n",
    "    row = []\n",
    "    for j in range(cols):\n",
    "        element = int(input(f\"Enter element for row {i+1}, column {j+1}: \"))\n",
    "        row.append(element)\n",
    "    matrix1.append(row)\n",
    "\n",
    "\n",
    "matrix1 = np.array(matrix1)\n",
    "\n",
    "\n",
    "print(\"\\nEnter the elements of the second matrix:\")\n",
    "for i in range(rows):\n",
    "    row = []\n",
    "    for j in range(cols):\n",
    "        element = int(input(f\"Enter element for row {i+1}, column {j+1}: \"))\n",
    "        row.append(element)\n",
    "    matrix2.append(row)\n",
    "\n",
    "\n",
    "matrix2 = np.array(matrix2)\n",
    "\n",
    "# Print the matrices\n",
    "print(\"\\nFirst Matrix:\")\n",
    "print(matrix1)\n",
    "\n",
    "print(\"\\nSecond Matrix:\")\n",
    "print(matrix2)\n",
    "\n"
   ]
  },
  {
   "cell_type": "code",
   "execution_count": 15,
   "id": "0cab2f9c-b5b4-4c62-88f9-5edf47578466",
   "metadata": {
    "scrolled": true
   },
   "outputs": [
    {
     "name": "stdout",
     "output_type": "stream",
     "text": [
      "Matrix 1:\n",
      "[[1 2]\n",
      " [3 4]]\n",
      "\n",
      "Matrix 2:\n",
      "[[5 6]\n",
      " [7 8]]\n",
      "\n",
      "Sum of Matrices:\n",
      "[[ 6  8]\n",
      " [10 12]]\n",
      "\n",
      "Product of Matrices:\n",
      "[[19 22]\n",
      " [43 50]]\n"
     ]
    }
   ],
   "source": [
    "#B)Matrix Addition and Multiplication of given dimensions\n",
    "import numpy as np\n",
    "\n",
    "matrix1 = np.array([[1, 2], [3, 4]])\n",
    "matrix2 = np.array([[5, 6], [7, 8]])\n",
    "\n",
    "if matrix1.shape != matrix2.shape:\n",
    "    print(\"Error: The matrices must have the same dimensions for addition.\")\n",
    "else:\n",
    "    matrix_sum = matrix1 + matrix2\n",
    "\n",
    "    print(\"Matrix 1:\")\n",
    "    print(matrix1)\n",
    "    print(\"\\nMatrix 2:\")\n",
    "    print(matrix2)\n",
    "    print(\"\\nSum of Matrices:\")\n",
    "    print(matrix_sum)\n",
    "\n",
    "if matrix1.shape[1] != matrix2.shape[0]:\n",
    "    print(\"Error: The number of columns in the first matrix must equal the number of rows in the second matrix for multiplication.\")\n",
    "else:\n",
    "    matrix_product = np.dot(matrix1, matrix2)\n",
    "\n",
    "    print(\"\\nProduct of Matrices:\")\n",
    "    print(matrix_product)\n",
    "\n"
   ]
  },
  {
   "cell_type": "code",
   "execution_count": 12,
   "id": "7e08c805-a89c-46df-be83-309049aeb129",
   "metadata": {},
   "outputs": [
    {
     "name": "stdout",
     "output_type": "stream",
     "text": [
      "Original Matrix:\n",
      "[[1 2 3]\n",
      " [4 5 6]]\n",
      "\n",
      "Transposed Matrix (using .T):\n",
      "[[1 4]\n",
      " [2 5]\n",
      " [3 6]]\n",
      "\n",
      "Transposed Matrix (using np.transpose()):\n",
      "[[1 4]\n",
      " [2 5]\n",
      " [3 6]]\n"
     ]
    }
   ],
   "source": [
    "#c) Matrix Transpose and Matrix Inversion.\n",
    "import numpy as np\n",
    "matrix = np.array([[1, 2, 3], [4, 5, 6]])\n",
    "\n",
    "transpose_matrix = matrix.T\n",
    "\n",
    "transpose_matrix_alt = np.transpose(matrix)\n",
    "\n",
    "print(\"Original Matrix:\")\n",
    "print(matrix)\n",
    "print(\"\\nTransposed Matrix (using .T):\")\n",
    "print(transpose_matrix)\n",
    "print(\"\\nTransposed Matrix (using np.transpose()):\")\n",
    "print(transpose_matrix_alt)\n"
   ]
  },
  {
   "cell_type": "code",
   "execution_count": 13,
   "id": "c6c00859-34a1-4a00-b167-d96cdb3870cf",
   "metadata": {},
   "outputs": [
    {
     "name": "stdout",
     "output_type": "stream",
     "text": [
      "Original Matrix:\n",
      "[[1 2]\n",
      " [3 4]]\n",
      "\n",
      "Inverse Matrix:\n",
      "[[-2.   1. ]\n",
      " [ 1.5 -0.5]]\n"
     ]
    }
   ],
   "source": [
    "#inverse\n",
    "import numpy as np\n",
    "\n",
    "\n",
    "matrix = np.array([[1, 2], [3, 4]])\n",
    "\n",
    "#findingg inverse using numpy.linalg.inv()\n",
    "inverse_matrix = np.linalg.inv(matrix)\n",
    "\n",
    "print(\"Original Matrix:\")\n",
    "print(matrix)\n",
    "print(\"\\nInverse Matrix:\")\n",
    "print(inverse_matrix)"
   ]
  }
 ],
 "metadata": {
  "kernelspec": {
   "display_name": "Python 3 (ipykernel)",
   "language": "python",
   "name": "python3"
  },
  "language_info": {
   "codemirror_mode": {
    "name": "ipython",
    "version": 3
   },
   "file_extension": ".py",
   "mimetype": "text/x-python",
   "name": "python",
   "nbconvert_exporter": "python",
   "pygments_lexer": "ipython3",
   "version": "3.12.4"
  }
 },
 "nbformat": 4,
 "nbformat_minor": 5
}
