{
 "cells": [
  {
   "cell_type": "code",
   "execution_count": 1,
   "id": "3fb1eecb-c6dc-489c-abda-0ef847caf02d",
   "metadata": {},
   "outputs": [
    {
     "name": "stdout",
     "output_type": "stream",
     "text": [
      "Random Integer: 449\n",
      "Random Float: 0.718943503409621\n",
      "Random Range Float: 17.46389005344235\n",
      "Random Choice: banana\n",
      "Random Step: 25\n",
      "Random Boolean: True\n",
      "Random Sample: ['apple', 'cherry']\n",
      "Random Gaussian: -0.6703901039371052\n"
     ]
    }
   ],
   "source": [
    "#7) Generate random data using all available built in random functions in Python.\n",
    "import random\n",
    "\n",
    "rand_int = random.randint(50, 1000) #random integer between 50 to 1000\n",
    "print(\"Random Integer:\", rand_int)\n",
    "\n",
    "rand_flt = random.random() #random floating point numbers between 0 and 1\n",
    "print(\"Random Float:\", rand_flt)\n",
    "\n",
    "flt_range = random.uniform(15, 25) #random float within a range\n",
    "print(\"Random Range Float:\", flt_range)\n",
    "\n",
    "options = [\"apple\", \"banana\", \"cherry\"]\n",
    "r_choice = random.choice(options) #random choice from a list\n",
    "print(\"Random Choice:\", r_choice)\n",
    "\n",
    "r_step = random.randrange(0, 100, 5)\n",
    "print(\"Random Step:\", r_step)\n",
    "\n",
    "r_bool = random.choice([True, False])\n",
    "print(\"Random Boolean:\", r_bool)\n",
    "\n",
    "r_sample = random.sample(options, 2)\n",
    "print(\"Random Sample:\", r_sample)\n",
    "\n",
    "random_gaussian = random.gauss(0, 1) #random Gaussian (normal) distribution value\n",
    "print(\"Random Gaussian:\", random_gaussian)"
   ]
  }
 ],
 "metadata": {
  "kernelspec": {
   "display_name": "Python 3 (ipykernel)",
   "language": "python",
   "name": "python3"
  },
  "language_info": {
   "codemirror_mode": {
    "name": "ipython",
    "version": 3
   },
   "file_extension": ".py",
   "mimetype": "text/x-python",
   "name": "python",
   "nbconvert_exporter": "python",
   "pygments_lexer": "ipython3",
   "version": "3.12.4"
  }
 },
 "nbformat": 4,
 "nbformat_minor": 5
}
