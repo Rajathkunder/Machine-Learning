{
 "cells": [
  {
   "cell_type": "code",
   "execution_count": 1,
   "id": "cf3e24e0-e3c9-4c71-8ba3-d2d9ec1e899b",
   "metadata": {},
   "outputs": [
    {
     "name": "stdout",
     "output_type": "stream",
     "text": [
      "[0.         0.11111111 0.22222222 0.33333333 0.44444444 0.55555556\n",
      " 0.66666667 0.77777778 0.88888889 1.        ]\n"
     ]
    }
   ],
   "source": [
    "'''\n",
    "The linspace function in NumPy is used to create an array of evenly spaced numbers over a specified range. It's particularly useful when you want to generate a sequence of numbers with a specific number of elements, rather than specifying the step size as in arange.\n",
    "Syntax:\n",
    "numpy.linspace(start, stop, num=50, endpoint=True, retstep=False, dtype=None)\n",
    "\n",
    "Parameters:\n",
    "\n",
    "start: The starting value of the sequence.\n",
    "stop: The end value of the sequence.\n",
    "num: The number of evenly spaced samples to generate (default is 50).\n",
    "endpoint: If True, the stop value is included in the sequence. If False, it is not included.\n",
    "retstep: If True, return the spacing between samples along with the array.\n",
    "dtype: The data type of the output array (optional).\n",
    "'''\n",
    "import numpy as np\n",
    "\n",
    "\n",
    "data = np.linspace(0, 1, num=10)\n",
    "print(data)\n"
   ]
  }
 ],
 "metadata": {
  "kernelspec": {
   "display_name": "Python 3 (ipykernel)",
   "language": "python",
   "name": "python3"
  },
  "language_info": {
   "codemirror_mode": {
    "name": "ipython",
    "version": 3
   },
   "file_extension": ".py",
   "mimetype": "text/x-python",
   "name": "python",
   "nbconvert_exporter": "python",
   "pygments_lexer": "ipython3",
   "version": "3.12.4"
  }
 },
 "nbformat": 4,
 "nbformat_minor": 5
}
