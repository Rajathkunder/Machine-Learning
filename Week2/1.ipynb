{
 "cells": [
  {
   "cell_type": "code",
   "execution_count": 2,
   "id": "c78aaeea-a242-441d-ae20-67fa8c57f7b4",
   "metadata": {},
   "outputs": [
    {
     "name": "stdout",
     "output_type": "stream",
     "text": [
      "[0, 1, 2, 3, 4, 5, 6, 7, 8, 9]\n",
      "[0, 2, 4, 6, 8, 10, 12, 14, 16, 18, 20]\n",
      "[0 1 2 3 4 5 6 7 8 9]\n",
      "[0.  0.1 0.2 0.3 0.4 0.5 0.6 0.7 0.8 0.9]\n"
     ]
    }
   ],
   "source": [
    "s\n",
    "import numpy as np\n",
    "\n",
    "data = list(range(0, 10))\n",
    "print(data)  \n",
    "\n",
    "\n",
    "even_numbers = list(range(0, 21, 2))\n",
    "print(even_numbers) \n",
    "\n",
    "data = np.arange(0, 10)\n",
    "print(data)  \n",
    "\n",
    "\n",
    "float_data = np.arange(0, 1, 0.1)\n",
    "print(float_data)  \n"
   ]
  },
  {
   "cell_type": "code",
   "execution_count": null,
   "id": "c06862c7-466f-4788-92de-3ce90bec40f1",
   "metadata": {},
   "outputs": [],
   "source": [
    "\n"
   ]
  }
 ],
 "metadata": {
  "kernelspec": {
   "display_name": "Python 3 (ipykernel)",
   "language": "python",
   "name": "python3"
  },
  "language_info": {
   "codemirror_mode": {
    "name": "ipython",
    "version": 3
   },
   "file_extension": ".py",
   "mimetype": "text/x-python",
   "name": "python",
   "nbconvert_exporter": "python",
   "pygments_lexer": "ipython3",
   "version": "3.12.4"
  }
 },
 "nbformat": 4,
 "nbformat_minor": 5
}
