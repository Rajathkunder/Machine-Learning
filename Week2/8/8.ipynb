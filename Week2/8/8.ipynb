{
 "cells": [
  {
   "cell_type": "code",
   "execution_count": 1,
   "id": "cf93fdf2-d96d-4f4a-969d-d3888821b078",
   "metadata": {},
   "outputs": [
    {
     "name": "stdout",
     "output_type": "stream",
     "text": [
      "SLNO,REGNO,NAME,M1,M2,M3,M4,M5\n",
      "1,1001,A,10,18,16,14,17\n",
      "2,1002,B,20,28,26,24,27\n",
      "3,1003,C,30,38,36,34,37\n",
      "4,1004,D,40,48,46,44,47\n",
      "5,1005,E,50,58,56,54,57\n",
      "6,1006,F,60,68,66,64,67\n",
      "7,1007,G,70,78,76,74,77\n",
      "8,1008,H,80,88,86,84,87\n",
      "9,1009,I,90,98,96,94,97\n",
      "10,1010,J,92,100,98,96,99\n",
      "\n"
     ]
    }
   ],
   "source": [
    "#8) Write a program in Python to create a new csv file and fill in the data used in Q.4 and display the .csv \n",
    "#file\n",
    "import pandas as pd\n",
    "\n",
    "data = {\n",
    "    'SLNO': [1, 2, 3, 4, 5, 6, 7, 8, 9, 10],\n",
    "    'REGNO': [1001, 1002, 1003, 1004, 1005, 1006, 1007, 1008, 1009, 1010],\n",
    "    'NAME': ['A', 'B', 'C', 'D', 'E', 'F', 'G', 'H', 'I', 'J'],\n",
    "    'M1': [10, 20, 30, 40, 50, 60, 70, 80, 90, 92],\n",
    "    'M2': [18, 28, 38, 48, 58, 68, 78, 88, 98, 100],\n",
    "    'M3': [16, 26, 36, 46, 56, 66, 76, 86, 96, 98],\n",
    "    'M4': [14, 24, 34, 44, 54, 64, 74, 84, 94, 96],\n",
    "    'M5': [17, 27, 37, 47, 57, 67, 77, 87, 97, 99]\n",
    "}\n",
    "\n",
    "df = pd.DataFrame(data)\n",
    "csv_filename = 'student_marks_new.csv'\n",
    "df.to_csv(csv_filename, index=False)\n",
    "\n",
    "with open(csv_filename, 'r') as file:\n",
    "    content = file.read()\n",
    "\n",
    "print(content)\n"
   ]
  }
 ],
 "metadata": {
  "kernelspec": {
   "display_name": "Python 3 (ipykernel)",
   "language": "python",
   "name": "python3"
  },
  "language_info": {
   "codemirror_mode": {
    "name": "ipython",
    "version": 3
   },
   "file_extension": ".py",
   "mimetype": "text/x-python",
   "name": "python",
   "nbconvert_exporter": "python",
   "pygments_lexer": "ipython3",
   "version": "3.12.4"
  }
 },
 "nbformat": 4,
 "nbformat_minor": 5
}
