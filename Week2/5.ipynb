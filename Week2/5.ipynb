{
 "cells": [
  {
   "cell_type": "code",
   "execution_count": 1,
   "id": "5ab92e27-1b11-4f79-badf-7bbe2e92972c",
   "metadata": {},
   "outputs": [
    {
     "name": "stdout",
     "output_type": "stream",
     "text": [
      "Original List: [5, 10, 15, 20, 25]\n",
      "Converted to NumPy Array: [ 5 10 15 20 25]\n",
      "Converted back to List: [5, 10, 15, 20, 25]\n"
     ]
    }
   ],
   "source": [
    "#5) Using any random data write a program in Python illustrating the conversion of Lists to numpy Arrays \n",
    " #and numpy Arrays to Lists.\n",
    "import numpy as np\n",
    "\n",
    "\n",
    "random_list = [5, 10, 15, 20, 25]\n",
    "print(\"Original List:\", random_list)\n",
    "\n",
    "\n",
    "np_array = np.array(random_list)\n",
    "print(\"Converted to NumPy Array:\", np_array)\n",
    "\n",
    "\n",
    "converted_list = np_array.tolist()\n",
    "print(\"Converted back to List:\", converted_list)\n"
   ]
  }
 ],
 "metadata": {
  "kernelspec": {
   "display_name": "Python 3 (ipykernel)",
   "language": "python",
   "name": "python3"
  },
  "language_info": {
   "codemirror_mode": {
    "name": "ipython",
    "version": 3
   },
   "file_extension": ".py",
   "mimetype": "text/x-python",
   "name": "python",
   "nbconvert_exporter": "python",
   "pygments_lexer": "ipython3",
   "version": "3.12.4"
  }
 },
 "nbformat": 4,
 "nbformat_minor": 5
}
