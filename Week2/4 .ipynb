{
 "cells": [
  {
   "cell_type": "code",
   "execution_count": 2,
   "id": "88372f7d-e5a0-4567-975f-bbf412949d2d",
   "metadata": {},
   "outputs": [
    {
     "name": "stdout",
     "output_type": "stream",
     "text": [
      "Enter the number of rows (M):  3\n",
      "Enter the number of columns (N):  3\n"
     ]
    },
    {
     "name": "stdout",
     "output_type": "stream",
     "text": [
      "Generated M x N matrix:\n",
      "[[0.55054238 0.44654982 0.85014899]\n",
      " [0.39238524 0.60034464 0.65482223]\n",
      " [0.76462188 0.71961623 0.69235646]]\n"
     ]
    }
   ],
   "source": [
    "#a) Create an M X N matrix using numpy arrays. The values of M and N should be taken as input from \n",
    " #the user.\n",
    "import numpy as np\n",
    "\n",
    "\n",
    "M = int(input(\"Enter the number of rows (M): \"))\n",
    "N = int(input(\"Enter the number of columns (N): \"))\n",
    "\n",
    "matrix = np.random.rand(M, N)\n",
    "\n",
    "print(\"Generated M x N matrix:\")\n",
    "print(matrix)\n",
    "\n"
   ]
  },
  {
   "cell_type": "code",
   "execution_count": 4,
   "id": "a668dbd1-d121-4b90-911f-b71586048fbb",
   "metadata": {},
   "outputs": [
    {
     "name": "stdout",
     "output_type": "stream",
     "text": [
      "Matrix Addition Result using Lists:\n",
      "[10, 10, 10]\n",
      "[10, 10, 10]\n",
      "[10, 10, 10]\n"
     ]
    }
   ],
   "source": [
    "#b) Perform the operations of Matrix addition and Multiplication using python lists and arrays\n",
    "#Matrix Addition and Multiplication using Python Lists\n",
    "#Matrix Addition using Python Lists:\n",
    "def matrix_addition(A, B):\n",
    "    \n",
    "    result = [[0 for _ in range(len(A[0]))] for _ in range(len(A))]\n",
    "\n",
    "    \n",
    "    for i in range(len(A)):\n",
    "        for j in range(len(A[0])):\n",
    "            result[i][j] = A[i][j] + B[i][j]\n",
    "\n",
    "    return result\n",
    "\n",
    "\n",
    "A = [[1, 2, 3], \n",
    "     [4, 5, 6], \n",
    "     [7, 8, 9]]\n",
    "\n",
    "B = [[9, 8, 7], \n",
    "     [6, 5, 4], \n",
    "     [3, 2, 1]]\n",
    "\n",
    "\n",
    "result_add = matrix_addition(A, B)\n",
    "print(\"Matrix Addition Result using Lists:\")\n",
    "for row in result_add:\n",
    "    print(row)\n",
    "\n"
   ]
  },
  {
   "cell_type": "code",
   "execution_count": 5,
   "id": "2c52eb27-5782-495a-bc8f-d4cb58b62640",
   "metadata": {},
   "outputs": [
    {
     "name": "stdout",
     "output_type": "stream",
     "text": [
      "Matrix Multiplication Result using Lists:\n",
      "[30, 24, 18]\n",
      "[84, 69, 54]\n",
      "[138, 114, 90]\n"
     ]
    }
   ],
   "source": [
    "#Matrix Multiplication using Python Lists:\n",
    "def matrix_multiplication(A, B):\n",
    "    result = [[0 for _ in range(len(B[0]))] for _ in range(len(A))]\n",
    "\n",
    "    \n",
    "    for i in range(len(A)):\n",
    "        for j in range(len(B[0])):\n",
    "            for k in range(len(B)):\n",
    "                result[i][j] += A[i][k] * B[k][j]\n",
    "\n",
    "    return result\n",
    "\n",
    "\n",
    "result_mul = matrix_multiplication(A, B)\n",
    "print(\"Matrix Multiplication Result using Lists:\")\n",
    "for row in result_mul:\n",
    "    print(row)\n"
   ]
  },
  {
   "cell_type": "code",
   "execution_count": 7,
   "id": "3b63d497-f414-457c-ac64-d6924996a85c",
   "metadata": {},
   "outputs": [
    {
     "name": "stdout",
     "output_type": "stream",
     "text": [
      "Matrix Addition Result using NumPy Arrays:\n",
      "[[10 10 10]\n",
      " [10 10 10]\n",
      " [10 10 10]]\n"
     ]
    }
   ],
   "source": [
    "#Matrix Addition and Multiplication using NumPy Arrays\n",
    "#Matrix Addition using NumPy Arrays:\n",
    "import numpy as np\n",
    "\n",
    "\n",
    "A = np.array([[1, 2, 3], \n",
    "              [4, 5, 6], \n",
    "              [7, 8, 9]])\n",
    "\n",
    "B = np.array([[9, 8, 7], \n",
    "              [6, 5, 4], \n",
    "              [3, 2, 1]])\n",
    "\n",
    "\n",
    "result_add_np = A + B\n",
    "\n",
    "\n",
    "print(\"Matrix Addition Result using NumPy Arrays:\")\n",
    "print(result_add_np)\n"
   ]
  },
  {
   "cell_type": "code",
   "execution_count": 8,
   "id": "97fa56a9-3edc-4c46-b6d2-137c29c0d22a",
   "metadata": {},
   "outputs": [
    {
     "name": "stdout",
     "output_type": "stream",
     "text": [
      "Matrix Multiplication Result using NumPy Arrays:\n",
      "[[ 30  24  18]\n",
      " [ 84  69  54]\n",
      " [138 114  90]]\n"
     ]
    }
   ],
   "source": [
    "#Matrix Multiplication using NumPy Arrays:\n",
    "# Matrix Multiplication\n",
    "result_mul_np = np.dot(A, B)\n",
    "\n",
    "\n",
    "print(\"Matrix Multiplication Result using NumPy Arrays:\")\n",
    "print(result_mul_np)\n"
   ]
  },
  {
   "cell_type": "code",
   "execution_count": 9,
   "id": "fc912fda-a4cb-4f33-80f9-7193d5421e62",
   "metadata": {},
   "outputs": [
    {
     "name": "stdout",
     "output_type": "stream",
     "text": [
      "Inverted Matrix:\n",
      "[[ 0.6 -0.7]\n",
      " [-0.2  0.4]]\n"
     ]
    }
   ],
   "source": [
    "#c) Using Python coding and also built in Math functions write a program to perform matrix inversion\n",
    "import numpy as np\n",
    "\n",
    "def invert_matrix(matrix):\n",
    "    \n",
    "    np_matrix = np.array(matrix)\n",
    "    \n",
    "    \n",
    "    try:\n",
    "        \n",
    "        inverse_matrix = np.linalg.inv(np_matrix)\n",
    "        return inverse_matrix\n",
    "    except np.linalg.LinAlgError:\n",
    "        raise ValueError(\"Matrix is singular and cannot be inverted\")\n",
    "\n",
    "\n",
    "matrix = [\n",
    "    [4, 7],\n",
    "    [2, 6]\n",
    "]\n",
    "\n",
    "inverted_matrix = invert_matrix(matrix)\n",
    "print(\"Inverted Matrix:\")\n",
    "print(inverted_matrix)\n"
   ]
  },
  {
   "cell_type": "code",
   "execution_count": null,
   "id": "a62807ed-7608-4aa5-b68c-ea8c0860b901",
   "metadata": {},
   "outputs": [],
   "source": []
  }
 ],
 "metadata": {
  "kernelspec": {
   "display_name": "Python 3 (ipykernel)",
   "language": "python",
   "name": "python3"
  },
  "language_info": {
   "codemirror_mode": {
    "name": "ipython",
    "version": 3
   },
   "file_extension": ".py",
   "mimetype": "text/x-python",
   "name": "python",
   "nbconvert_exporter": "python",
   "pygments_lexer": "ipython3",
   "version": "3.12.4"
  }
 },
 "nbformat": 4,
 "nbformat_minor": 5
}
